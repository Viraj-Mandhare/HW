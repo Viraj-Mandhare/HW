{
 "cells": [
  {
   "cell_type": "code",
   "execution_count": 2,
   "id": "ffbbe082",
   "metadata": {},
   "outputs": [
    {
     "name": "stdout",
     "output_type": "stream",
     "text": [
      "Welcome Viraj Mandhare . Your NYU id is vsm2044\n"
     ]
    }
   ],
   "source": [
    "def intro(fname,lname,netID):\n",
    "    print('Welcome',fname,lname,'. Your NYU id is',netID)\n",
    "intro(\"Viraj\",\"Mandhare\",\"vsm2044\")"
   ]
  },
  {
   "cell_type": "code",
   "execution_count": null,
   "id": "392196ba",
   "metadata": {},
   "outputs": [],
   "source": []
  }
 ],
 "metadata": {
  "kernelspec": {
   "display_name": "Python 3 (ipykernel)",
   "language": "python",
   "name": "python3"
  },
  "language_info": {
   "codemirror_mode": {
    "name": "ipython",
    "version": 3
   },
   "file_extension": ".py",
   "mimetype": "text/x-python",
   "name": "python",
   "nbconvert_exporter": "python",
   "pygments_lexer": "ipython3",
   "version": "3.9.13"
  }
 },
 "nbformat": 4,
 "nbformat_minor": 5
}
